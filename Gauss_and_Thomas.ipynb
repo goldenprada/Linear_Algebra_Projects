{
 "cells": [
  {
   "cell_type": "code",
   "execution_count": 36,
   "id": "2ab47afb",
   "metadata": {},
   "outputs": [],
   "source": [
    "import numpy as np"
   ]
  },
  {
   "cell_type": "code",
   "execution_count": 2,
   "id": "10784089",
   "metadata": {},
   "outputs": [],
   "source": [
    "def Gauss_Elim(A,b):\n",
    "    n = len(b)\n",
    "    \n",
    "    for k in range(0, n - 1):\n",
    "        for i in range(k + 1, n):\n",
    "            if A[i, k] != 0.0:\n",
    "                coeff = A[i, k] / A[k, k]\n",
    "                A[i] -= coeff * A[k]\n",
    "                b[i] -= coeff * b[k]\n",
    "                \n",
    "    for k in range(n - 1, -1, -1):\n",
    "        b[k] = (b[k] - np.dot(A[k, k + 1:n], b[k + 1:n])) / A[k, k]\n",
    "    return A, b"
   ]
  },
  {
   "cell_type": "code",
   "execution_count": 8,
   "id": "c7864fc7",
   "metadata": {},
   "outputs": [
    {
     "data": {
      "text/plain": [
       "(array([[ 3.        ,  2.        ,  1.        ],\n",
       "        [ 0.        , -1.66666667,  1.66666667],\n",
       "        [ 0.        ,  0.        ,  1.        ]]),\n",
       " array([-1.,  2.,  1.]))"
      ]
     },
     "execution_count": 8,
     "metadata": {},
     "output_type": "execute_result"
    }
   ],
   "source": [
    "A = np.array([[3, 2, 1], [1, -1, 2],[2, 2, 1]], dtype=float)\n",
    "b = np.array([2, -1, 3], dtype=float)\n",
    "Gauss_Elim(A, b)"
   ]
  },
  {
   "cell_type": "code",
   "execution_count": 25,
   "id": "2c27ce77",
   "metadata": {},
   "outputs": [],
   "source": [
    "def Thomas_method(A, b):\n",
    "    n = len(b)\n",
    "    alpha = np.hstack((np.zeros(1), A.diagonal(-1)))\n",
    "    betta = A.diagonal() * -1\n",
    "    gamma = np.hstack((A.diagonal(1), np.zeros(1)))\n",
    "    \n",
    "    P = np.zeros(n)\n",
    "    Q = np.zeros(n)\n",
    "    \n",
    "    for i in range(0, n):\n",
    "        P[i] = gamma[i] / (betta[i] - alpha[i] * P[i - 1])\n",
    "        Q[i] = (alpha[i] * Q[i - 1] - b[i]) / (betta[i] - alpha[i] * P[i - 1])\n",
    "        \n",
    "    x = np.zeros(n)\n",
    "    x[n - 1] = Q[n - 1]\n",
    "    for j in range(n-2, -1, -1):\n",
    "        x[j] = P[j] * x[j+1] + Q[j]\n",
    "    return x"
   ]
  },
  {
   "cell_type": "code",
   "execution_count": 26,
   "id": "b1062eec",
   "metadata": {},
   "outputs": [
    {
     "data": {
      "text/plain": [
       "array([ 1.,  2., -1.,  3.])"
      ]
     },
     "execution_count": 26,
     "metadata": {},
     "output_type": "execute_result"
    }
   ],
   "source": [
    "A = np.array([[2, 1, 0, 0], [2, 3, -1, -1], [0, 1, -1, 3], [0, 0, 1, -1]])\n",
    "b = np.array([4, 9, 12, -4])\n",
    "Thomas_method(A,b)"
   ]
  },
  {
   "cell_type": "code",
   "execution_count": null,
   "id": "d7560a98",
   "metadata": {},
   "outputs": [],
   "source": []
  }
 ],
 "metadata": {
  "kernelspec": {
   "display_name": "Python 3",
   "language": "python",
   "name": "python3"
  },
  "language_info": {
   "codemirror_mode": {
    "name": "ipython",
    "version": 3
   },
   "file_extension": ".py",
   "mimetype": "text/x-python",
   "name": "python",
   "nbconvert_exporter": "python",
   "pygments_lexer": "ipython3",
   "version": "3.8.8"
  }
 },
 "nbformat": 4,
 "nbformat_minor": 5
}
