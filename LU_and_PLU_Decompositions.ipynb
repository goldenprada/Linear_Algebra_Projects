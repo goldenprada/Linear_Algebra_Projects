{
 "cells": [
  {
   "cell_type": "code",
   "execution_count": 56,
   "id": "d57ce6da",
   "metadata": {},
   "outputs": [],
   "source": [
    "import numpy as np\n",
    "from numpy import zeros, argmax, array\n",
    "def swap_rows(A, i, j):\n",
    "    A[[i, j]] = A[[j, i]]\n",
    "    return A"
   ]
  },
  {
   "cell_type": "code",
   "execution_count": 57,
   "id": "b8905058",
   "metadata": {},
   "outputs": [],
   "source": [
    "def LU_decomposition(A):\n",
    "    n = len(A)\n",
    "    L = np.eye(n)\n",
    "    U = np.zeros((n, n))\n",
    "    P = np.zeros((n , n))\n",
    "    \n",
    "    for i in range(0, n):\n",
    "        for j in range(0, i):\n",
    "            L[i, j] = (A[i, j] - np.dot(L[i, 0:j], U[0:j, j])) / U[j, j]\n",
    "        for j in range(i, n):\n",
    "            U[i, j] = A[i, j] - np.dot(L[i, 0:i], U[0:i, j])\n",
    "             \n",
    "    \n",
    "\n",
    "    return (L, U)"
   ]
  },
  {
   "cell_type": "code",
   "execution_count": 58,
   "id": "330a4b47",
   "metadata": {},
   "outputs": [],
   "source": [
    "def LU_Pivot(A, eps = 1.0e-10):\n",
    "    \n",
    "    n = len(A)\n",
    "    perm = array(range(n))\n",
    "    \n",
    "    # Сохраним коэф.нормировки в массив\n",
    "    s = zeros((n), dtype=float)\n",
    "    for i in range(n):\n",
    "        s[i] = max(abs(A[i]))\n",
    "        \n",
    "    \n",
    "    for k in range(0, n-1):\n",
    "        # Меняем строки при необходимости\n",
    "        p = int(argmax(abs(A[k:n, k])/s[k:n])) + k\n",
    "        if abs(A[p, k]) < eps:\n",
    "            print('Матрица вырождена!')\n",
    "            return np.zeros(n), np.zeros(n)\n",
    "        if p != k:\n",
    "            swap_rows(A, k, p)\n",
    "            swap_rows(s, k, p)\n",
    "            swap_rows(perm, k, p)\n",
    "        # Исключение\n",
    "    \n",
    "        for i in range(k+1, n):\n",
    "            if A[i, k] != 0.:\n",
    "                l_el = A[i,k]/ A[k,k]\n",
    "                A[i, k+1:n] = A[i, k+1:n] - l_el * A[k, k+1:n]\n",
    "                A[i,k] = l_el\n",
    "    \n",
    "    \n",
    "    U = np.zeros((n, n), dtype = float)\n",
    "    L = np.eye(n, n)\n",
    "    P = np.zeros((n, n), dtype = float)\n",
    "    \n",
    "    for i in range(1, n):\n",
    "        for k in range(0, i):\n",
    "            L[i, k] += A[i, k]\n",
    "            \n",
    "    for i in range(0,n):\n",
    "        for k in range(i, n):\n",
    "            U[i, k] += A[i,k]\n",
    "            \n",
    "    for i in range(0, n):\n",
    "        for k in range(0, n):\n",
    "            if perm[k] == i:\n",
    "                P[k, i] += 1\n",
    "                \n",
    "    return(P, L, U)"
   ]
  },
  {
   "cell_type": "code",
   "execution_count": 59,
   "id": "2eb369f5",
   "metadata": {},
   "outputs": [],
   "source": [
    "A = np.array([[2., -8, 0, 5], [-9, 9, -7, 6], [-6, 7, 3, 8], [-1, 8, 5, 1]])"
   ]
  },
  {
   "cell_type": "code",
   "execution_count": 60,
   "id": "3c2a9cd3",
   "metadata": {},
   "outputs": [
    {
     "data": {
      "text/plain": [
       "(array([[0., 1., 0., 0.],\n",
       "        [0., 0., 0., 1.],\n",
       "        [0., 0., 1., 0.],\n",
       "        [1., 0., 0., 0.]]),\n",
       " array([[ 1.        ,  0.        ,  0.        ,  0.        ],\n",
       "        [ 0.11111111,  1.        ,  0.        ,  0.        ],\n",
       "        [ 0.66666667,  0.14285714,  1.        ,  0.        ],\n",
       "        [-0.22222222, -0.85714286,  0.49651972,  1.        ]]),\n",
       " array([[-9.        ,  9.        , -7.        ,  6.        ],\n",
       "        [ 0.        ,  7.        ,  5.77777778,  0.33333333],\n",
       "        [ 0.        ,  0.        ,  6.84126984,  3.95238095],\n",
       "        [ 0.        ,  0.        ,  0.        ,  4.65661253]]))"
      ]
     },
     "execution_count": 60,
     "metadata": {},
     "output_type": "execute_result"
    }
   ],
   "source": [
    "LU_Pivot(A)"
   ]
  },
  {
   "cell_type": "code",
   "execution_count": null,
   "id": "ce4954ea",
   "metadata": {},
   "outputs": [],
   "source": []
  }
 ],
 "metadata": {
  "kernelspec": {
   "display_name": "Python 3",
   "language": "python",
   "name": "python3"
  },
  "language_info": {
   "codemirror_mode": {
    "name": "ipython",
    "version": 3
   },
   "file_extension": ".py",
   "mimetype": "text/x-python",
   "name": "python",
   "nbconvert_exporter": "python",
   "pygments_lexer": "ipython3",
   "version": "3.8.8"
  }
 },
 "nbformat": 4,
 "nbformat_minor": 5
}
