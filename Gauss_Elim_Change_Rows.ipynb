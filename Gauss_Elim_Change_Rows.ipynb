{
 "cells": [
  {
   "cell_type": "code",
   "execution_count": 69,
   "id": "5950beae",
   "metadata": {},
   "outputs": [],
   "source": [
    "import numpy as np\n",
    "\n",
    "def swap_rows(A, i, j):\n",
    "    A[[i, j]] = A[[j, i]]\n",
    "    return A\n",
    "\n",
    "def Gauss_Pivot(A,b, eps = 1.0e-10):\n",
    "    \n",
    "    n = len(b)\n",
    "    \n",
    "    for k in range(0, n - 1):\n",
    "        if abs(A[k, k]) < eps and max(A[k:, k]) >= 0:\n",
    "            swap_rows(b, A[k:, k].argmax(), k)\n",
    "            swap_rows(A, A[k:, k].argmax(), k)\n",
    "        else:\n",
    "            swap_rows(b, A[k:, k].argmin(), k)\n",
    "            swap_rows(A, A[k:, k].argmin(), k)\n",
    "   \n",
    "    if abs(A[n-1, n-1]) < eps:\n",
    "        z = 0\n",
    "        while abs(A[z, n-1]) < eps:\n",
    "            z += 1\n",
    "            b[n-1] += b[z]\n",
    "            A[n-1] += A[z]\n",
    "      \n",
    "    for k in range(0, n - 1):\n",
    "        for i in range(k + 1, n):\n",
    "            if A[i, k] != 0.0:\n",
    "                coeff = A[i, k] / A[k, k]\n",
    "                A[i] -= coeff * A[k]\n",
    "                b[i] -= coeff * b[k]\n",
    "                \n",
    "    for k in range(n - 1, -1, -1):\n",
    "        b[k] = (b[k] - np.dot(A[k, k + 1:n], b[k + 1:n])) / A[k, k]\n",
    "    return A, b"
   ]
  },
  {
   "cell_type": "code",
   "execution_count": 70,
   "id": "bc7918f5",
   "metadata": {},
   "outputs": [
    {
     "data": {
      "text/plain": [
       "(array([[ 7.        ,  2.        ,  0.        ,  5.        ],\n",
       "        [ 0.        , -0.57142857,  8.        ,  4.57142857],\n",
       "        [ 0.        ,  0.        , 19.        ,  8.        ],\n",
       "        [ 0.        ,  0.        ,  0.        ,  7.89473684]]),\n",
       " array([ 2., -1.,  1., -2.]))"
      ]
     },
     "execution_count": 70,
     "metadata": {},
     "output_type": "execute_result"
    }
   ],
   "source": [
    "A = np.array([[0, 1, 5, 0], [2, 0, 8, 6], [7, 2, 0, 5], [2, 5, 0, 0]], dtype = float)\n",
    "b = np.array([4, 0, 2, -1], dtype = float)\n",
    "\n",
    "Gauss_Pivot(A, b)"
   ]
  },
  {
   "cell_type": "code",
   "execution_count": null,
   "id": "ea6e8397",
   "metadata": {},
   "outputs": [],
   "source": []
  }
 ],
 "metadata": {
  "kernelspec": {
   "display_name": "Python 3",
   "language": "python",
   "name": "python3"
  },
  "language_info": {
   "codemirror_mode": {
    "name": "ipython",
    "version": 3
   },
   "file_extension": ".py",
   "mimetype": "text/x-python",
   "name": "python",
   "nbconvert_exporter": "python",
   "pygments_lexer": "ipython3",
   "version": "3.8.8"
  }
 },
 "nbformat": 4,
 "nbformat_minor": 5
}
